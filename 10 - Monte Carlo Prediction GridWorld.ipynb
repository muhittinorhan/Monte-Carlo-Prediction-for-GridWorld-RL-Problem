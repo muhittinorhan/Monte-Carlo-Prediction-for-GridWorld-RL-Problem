{
 "cells": [
  {
   "cell_type": "code",
   "execution_count": null,
   "metadata": {},
   "outputs": [],
   "source": [
    "import numpy as np\n",
    "\n",
    "#Initialization\n",
    "ACTION_SPACE = ('U', 'D', 'L', 'R')\n",
    "States=[(0, 0),\n",
    " (0, 1),\n",
    " (0, 2),\n",
    " (0, 3),\n",
    " (1, 0),\n",
    " (1, 2),\n",
    " (1, 3),\n",
    " (2, 0),\n",
    " (2, 1),\n",
    " (2, 2),\n",
    " (2, 3)]\n",
    "REWARDS = {(0, 3): 1, (1, 3): -1}\n",
    "actions = {\n",
    "    (0, 0): ('D', 'R'),\n",
    "    (0, 1): ('L', 'R'),\n",
    "    (0, 2): ('L', 'D', 'R'),\n",
    "    (1, 0): ('U', 'D'),\n",
    "    (1, 2): ('U', 'D', 'R'),\n",
    "    (2, 0): ('U', 'R'),\n",
    "    (2, 1): ('L', 'R'),\n",
    "    (2, 2): ('L', 'R', 'U'),\n",
    "    (2, 3): ('L', 'U'),\n",
    "    }"
   ]
  },
  {
   "cell_type": "code",
   "execution_count": null,
   "metadata": {},
   "outputs": [],
   "source": [
    "def is_terminal(s):\n",
    "    return s in [(0, 3),(1, 3)] "
   ]
  },
  {
   "cell_type": "code",
   "execution_count": null,
   "metadata": {},
   "outputs": [],
   "source": [
    "def print_values(V, rows,columns):\n",
    "    for i in range(rows):\n",
    "        print(\"---------------------------\")\n",
    "        for j in range(columns):\n",
    "            v = V.get((i,j), 0)\n",
    "            if v >= 0:\n",
    "                print(\" %.2f|\" % v, end=\"\")\n",
    "            else:\n",
    "                print(\"%.2f|\" % v, end=\"\") # -ve sign takes up an extra space\n",
    "        print(\"\")"
   ]
  },
  {
   "cell_type": "code",
   "execution_count": null,
   "metadata": {},
   "outputs": [],
   "source": [
    "def get_next_state(s, a):\n",
    "    # this answers: where would I end up if I perform action 'a' in state 's'?\n",
    "    i, j = s[0], s[1]\n",
    "    # if this action moves you somewhere else, then it will be in this dictionary\n",
    "    if a in actions[(i, j)]:\n",
    "        if a == 'U':\n",
    "            i -= 1\n",
    "        elif a == 'D':\n",
    "            i += 1\n",
    "        elif a == 'R':\n",
    "            j += 1\n",
    "        elif a == 'L':\n",
    "            j -= 1\n",
    "    return i, j"
   ]
  },
  {
   "cell_type": "code",
   "execution_count": null,
   "metadata": {},
   "outputs": [],
   "source": [
    "### define transition probabilities\n",
    "  # the key is (s, a, s'), the value is the probability\n",
    "  # that is, transition_probs[(s, a, s')] = p(s' | s, a)\n",
    "  # any key NOT present will considered to be impossible (i.e. probability 0)\n",
    "transition_probs = {}\n",
    "  # to reduce the dimensionality of the dictionary, we'll use deterministic\n",
    "  # rewards, r(s, a, s')\n",
    "  # note: you could make it simpler by using r(s') since the reward doesn't\n",
    "  # actually depend on (s, a)\n",
    "rewards = {}\n",
    "\n",
    "for s in States:\n",
    "    if not is_terminal(s):\n",
    "        for a in ACTION_SPACE:\n",
    "            s2 = get_next_state(s, a)\n",
    "            transition_probs[(s, a, s2)] = 1\n",
    "            if s2 in REWARDS:\n",
    "                rewards[(s, a, s2)] = REWARDS[s2]\n",
    "            else:\n",
    "                rewards[(s, a, s2)] = 0"
   ]
  },
  {
   "cell_type": "code",
   "execution_count": null,
   "metadata": {},
   "outputs": [],
   "source": [
    "### fixed policy ###\n",
    "policy = {\n",
    "    (2, 0): 'U',\n",
    "    (1, 0): 'U',\n",
    "    (0, 0): 'R',\n",
    "    (0, 1): 'R',\n",
    "    (0, 2): 'R',\n",
    "    (1, 2): 'U',\n",
    "    (2, 1): 'R',\n",
    "    (2, 2): 'U',\n",
    "    (2, 3): 'L',\n",
    "  }"
   ]
  },
  {
   "cell_type": "code",
   "execution_count": null,
   "metadata": {},
   "outputs": [],
   "source": [
    "def play_episode(policy,max_steps=20):\n",
    "    start_states = list(actions.keys())\n",
    "    start_idx = np.random.choice(len(start_states))\n",
    "    s=start_states[start_idx]\n",
    "    # keep track of all states and rewards encountered\n",
    "    episodestates = [s]\n",
    "    episoderewards = [0]\n",
    "\n",
    "    steps = 0\n",
    "    while not is_terminal(s):\n",
    "        a = policy[s]\n",
    "        next_s = get_next_state(s, a)\n",
    "        r = rewards.get((s, a, next_s),0)\n",
    "        # update states and rewards lists\n",
    "        episodestates.append(next_s)\n",
    "        episoderewards.append(r)\n",
    "        s=next_s\n",
    "       \n",
    "        steps += 1\n",
    "        if steps >= max_steps:\n",
    "            break\n",
    "    # update state\n",
    "    # note: there is no need to store the final terminal state\n",
    "    s = next_s\n",
    "    # we want to return:\n",
    "    # gamestates  = [s(0), s(1), ..., S(T)]\n",
    "    # gamerewards = [R(0), R(1), ..., R(T)]\n",
    "\n",
    "    return episodestates, episoderewards"
   ]
  },
  {
   "cell_type": "code",
   "execution_count": null,
   "metadata": {},
   "outputs": [],
   "source": [
    "play_episode(policy,max_steps=20)"
   ]
  },
  {
   "cell_type": "code",
   "execution_count": null,
   "metadata": {},
   "outputs": [],
   "source": [
    "# initialize V(s) and returns\n",
    "GAMMA=0.9\n",
    "V = {}\n",
    "returns = {} # dictionary of state -> list of returns we've received\n",
    "for s in States:\n",
    "    if s in actions.keys():\n",
    "        returns[s] = []\n",
    "    else:\n",
    "        # terminal state or state we can't otherwise get to\n",
    "        V[s] = 0\n",
    "# repeat\n",
    "for t in range(100):\n",
    "    # generate an episode using pi\n",
    "    episodestates, episoderewards = play_episode(policy,max_steps=20)\n",
    "    G = 0\n",
    "    T = len(episodestates)\n",
    "    for t in range(T - 2, -1, -1):\n",
    "        s = episodestates[t]\n",
    "        r = episoderewards[t+1]\n",
    "        G = r + GAMMA * G # update return\n",
    "\n",
    "      # we'll use first-visit Monte Carlo\n",
    "        if s not in episodestates[:t]:\n",
    "            returns[s].append(G)\n",
    "            V[s] = np.mean(returns[s])"
   ]
  },
  {
   "cell_type": "code",
   "execution_count": null,
   "metadata": {},
   "outputs": [],
   "source": [
    "print_values(V,3,4)"
   ]
  },
  {
   "cell_type": "code",
   "execution_count": null,
   "metadata": {},
   "outputs": [],
   "source": [
    "for t in range(5 - 2, -1, -1):\n",
    "    print(t)"
   ]
  },
  {
   "cell_type": "code",
   "execution_count": null,
   "metadata": {},
   "outputs": [],
   "source": []
  }
 ],
 "metadata": {
  "kernelspec": {
   "display_name": "Python 3",
   "language": "python",
   "name": "python3"
  },
  "language_info": {
   "codemirror_mode": {
    "name": "ipython",
    "version": 3
   },
   "file_extension": ".py",
   "mimetype": "text/x-python",
   "name": "python",
   "nbconvert_exporter": "python",
   "pygments_lexer": "ipython3",
   "version": "3.8.8"
  }
 },
 "nbformat": 4,
 "nbformat_minor": 4
}
